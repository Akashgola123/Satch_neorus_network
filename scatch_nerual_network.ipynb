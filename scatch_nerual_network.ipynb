{
  "nbformat": 4,
  "nbformat_minor": 0,
  "metadata": {
    "colab": {
      "provenance": [],
      "authorship_tag": "ABX9TyM+hqCNulboTPLQUzCJ3EIJ",
      "include_colab_link": true
    },
    "kernelspec": {
      "name": "python3",
      "display_name": "Python 3"
    },
    "language_info": {
      "name": "python"
    }
  },
  "cells": [
    {
      "cell_type": "markdown",
      "metadata": {
        "id": "view-in-github",
        "colab_type": "text"
      },
      "source": [
        "<a href=\"https://colab.research.google.com/github/Akashgola123/Satch_neorus_network/blob/main/scatch_nerual_network.ipynb\" target=\"_parent\"><img src=\"https://colab.research.google.com/assets/colab-badge.svg\" alt=\"Open In Colab\"/></a>"
      ]
    },
    {
      "cell_type": "code",
      "execution_count": null,
      "metadata": {
        "id": "lY6gqyWA2CuS"
      },
      "outputs": [],
      "source": [
        "import numpy as np\n"
      ]
    },
    {
      "cell_type": "code",
      "source": [
        "np.random.seed(0)\n"
      ],
      "metadata": {
        "id": "Yw_jPgix2L49"
      },
      "execution_count": null,
      "outputs": []
    },
    {
      "cell_type": "code",
      "source": [
        "x = 10 * np.random.rand(100,2) #generate 100 random value between 0 and 2\n",
        "y = 4+3*x+np.random.rand(100,1) # linear relationship with noise"
      ],
      "metadata": {
        "id": "tCxaLsfW2Sbt"
      },
      "execution_count": null,
      "outputs": []
    },
    {
      "cell_type": "code",
      "source": [
        "# add bias term to x\n",
        "x_b = np.c_[np.ones((100,1)), x]\n"
      ],
      "metadata": {
        "id": "Z97kzdcB3SLu"
      },
      "execution_count": null,
      "outputs": []
    },
    {
      "cell_type": "code",
      "source": [
        "# set learning rate and nukmmber of bias\n",
        "lr = 0.1 # learning rate\n",
        "echo_l = int(25) #echo"
      ],
      "metadata": {
        "id": "ROLDmSjb3kpG"
      },
      "execution_count": null,
      "outputs": []
    },
    {
      "cell_type": "code",
      "source": [
        "# initialze random weight\n",
        "theta = np.random.randn(2,1)\n"
      ],
      "metadata": {
        "id": "tgTuctc033im"
      },
      "execution_count": null,
      "outputs": []
    },
    {
      "cell_type": "code",
      "source": [
        "# batch gradient descent\n",
        "\n",
        "for iteration in range(echo_l):\n",
        "  gradient = 2/100*x_b.T.dot(x_b.dot(theta) - y) # compute gradient\n",
        "  theta = theta - lr*gradient #update weight\n",
        "  print(theta)"
      ],
      "metadata": {
        "colab": {
          "base_uri": "https://localhost:8080/"
        },
        "id": "3-4y_GBK4FLg",
        "outputId": "461cb0c1-000b-4bd8-e70e-6c9f8d01169a"
      },
      "execution_count": null,
      "outputs": [
        {
          "output_type": "stream",
          "name": "stdout",
          "text": [
            "[[ 3.3011494   3.26408221]\n",
            " [13.42082442 13.96187936]]\n",
            "[[ -6.2332795   -6.81161534]\n",
            " [-54.10793976 -56.30908935]]\n",
            "[[ 49.99354476  51.57518883]\n",
            " [301.53531698 313.92182059]]\n",
            "[[ -241.31687754  -251.80115467]\n",
            " [-1577.16192961 -1641.69683423]]\n",
            "[[1302.10775363 1354.7066754 ]\n",
            " [8341.71934864 8683.43423441]]\n",
            "[[ -6842.32446787  -7123.40378337]\n",
            " [-44031.70462526 -45834.93547903]]\n",
            "[[ 36165.79417301  37646.00653118]\n",
            " [232504.27240321 242026.64857126]]\n",
            "[[ -190916.72359956  -198736.83235977]\n",
            " [-1227632.9667343  -1277910.80166294]]\n",
            "[[1008105.04519645 1049391.02235766]\n",
            " [6482031.3576627  6747504.46420353]]\n",
            "[[ -5322841.13433543  -5540840.48833115]\n",
            " [-34225738.02551249 -35627460.16868626]]\n",
            "[[2.81051671e+07 2.92562188e+07]\n",
            " [1.80715197e+08 1.88116426e+08]]\n",
            "[[-1.48397926e+08 -1.54475596e+08]\n",
            " [-9.54193602e+08 -9.93272802e+08]]\n",
            "[[7.83555377e+08 8.15646051e+08]\n",
            " [5.03823396e+09 5.24457589e+09]]\n",
            "[[-4.13724765e+09 -4.30668950e+09]\n",
            " [-2.66023596e+10 -2.76918648e+10]]\n",
            "[[2.18450654e+10 2.27397346e+10]\n",
            " [1.40463016e+11 1.46215708e+11]]\n",
            "[[-1.15344045e+11 -1.20067985e+11]\n",
            " [-7.41658227e+11 -7.72032996e+11]]\n",
            "[[6.09027645e+11 6.33970501e+11]\n",
            " [3.91602673e+12 4.07640843e+12]]\n",
            "[[-3.21572451e+12 -3.34742519e+12]\n",
            " [-2.06769976e+13 -2.15238284e+13]]\n",
            "[[1.69793346e+13 1.76747268e+13]\n",
            " [1.09176535e+14 1.13647883e+14]]\n",
            "[[-8.96525187e+13 -9.33242564e+13]\n",
            " [-5.76462600e+14 -6.00071747e+14]]\n",
            "[[4.73373917e+14 4.92761045e+14]\n",
            " [3.04377794e+15 3.16843651e+15]]\n",
            "[[-2.49945979e+15 -2.60182569e+15]\n",
            " [-1.60714401e+16 -1.67296493e+16]]\n",
            "[[1.31973879e+16 1.37378897e+16]\n",
            " [8.48587488e+16 8.83341567e+16]]\n",
            "[[-6.96834770e+16 -7.25373784e+16]\n",
            " [-4.48062351e+17 -4.66412839e+17]]\n",
            "[[3.67935457e+17 3.83004331e+17]\n",
            " [2.36581229e+18 2.46270463e+18]]\n"
          ]
        }
      ]
    },
    {
      "source": [
        "print(x_b.shape)\n",
        "print(theta.shape)\n",
        "print(y.shape)"
      ],
      "cell_type": "code",
      "metadata": {
        "colab": {
          "base_uri": "https://localhost:8080/"
        },
        "id": "RkHb32Zj5hJr",
        "outputId": "570f718c-80c5-4fe1-b894-3cb65e512f41"
      },
      "execution_count": null,
      "outputs": [
        {
          "output_type": "stream",
          "name": "stdout",
          "text": [
            "(100, 2)\n",
            "(3, 1)\n",
            "(100, 2)\n"
          ]
        }
      ]
    },
    {
      "cell_type": "code",
      "source": [],
      "metadata": {
        "id": "MaLY5mFQ4tvo"
      },
      "execution_count": null,
      "outputs": []
    }
  ]
}